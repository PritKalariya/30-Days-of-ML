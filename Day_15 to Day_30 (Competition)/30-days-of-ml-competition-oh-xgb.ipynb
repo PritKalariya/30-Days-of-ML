{
 "cells": [
  {
   "cell_type": "code",
   "execution_count": 1,
   "id": "a8bf4288",
   "metadata": {
    "_cell_guid": "b1076dfc-b9ad-4769-8c92-a6c4dae69d19",
    "_uuid": "8f2839f25d086af736a60e9eeb907d3b93b6e0e5",
    "execution": {
     "iopub.execute_input": "2021-08-28T05:16:30.582729Z",
     "iopub.status.busy": "2021-08-28T05:16:30.581765Z",
     "iopub.status.idle": "2021-08-28T05:16:30.587768Z",
     "shell.execute_reply": "2021-08-28T05:16:30.587131Z",
     "shell.execute_reply.started": "2021-08-28T05:11:43.264603Z"
    },
    "papermill": {
     "duration": 0.034898,
     "end_time": "2021-08-28T05:16:30.587971",
     "exception": false,
     "start_time": "2021-08-28T05:16:30.553073",
     "status": "completed"
    },
    "tags": []
   },
   "outputs": [
    {
     "name": "stdout",
     "output_type": "stream",
     "text": [
      "/kaggle/input/30-days-of-ml/sample_submission.csv\n",
      "/kaggle/input/30-days-of-ml/train.csv\n",
      "/kaggle/input/30-days-of-ml/test.csv\n"
     ]
    }
   ],
   "source": [
    "# This Python 3 environment comes with many helpful analytics libraries installed\n",
    "# It is defined by the kaggle/python Docker image: https://github.com/kaggle/docker-python\n",
    "# For example, here's several helpful packages to load\n",
    "\n",
    "import numpy as np # linear algebra\n",
    "import pandas as pd # data processing, CSV file I/O (e.g. pd.read_csv)\n",
    "\n",
    "# Input data files are available in the read-only \"../input/\" directory\n",
    "# For example, running this (by clicking run or pressing Shift+Enter) will list all files under the input directory\n",
    "\n",
    "import os\n",
    "for dirname, _, filenames in os.walk('/kaggle/input'):\n",
    "    for filename in filenames:\n",
    "        print(os.path.join(dirname, filename))\n",
    "\n",
    "# You can write up to 20GB to the current directory (/kaggle/working/) that gets preserved as output when you create a version using \"Save & Run All\" \n",
    "# You can also write temporary files to /kaggle/temp/, but they won't be saved outside of the current session"
   ]
  },
  {
   "cell_type": "markdown",
   "id": "d836dd69",
   "metadata": {
    "papermill": {
     "duration": 0.015049,
     "end_time": "2021-08-28T05:16:30.619208",
     "exception": false,
     "start_time": "2021-08-28T05:16:30.604159",
     "status": "completed"
    },
    "tags": []
   },
   "source": [
    "## Loading all the necessary libraries"
   ]
  },
  {
   "cell_type": "code",
   "execution_count": 2,
   "id": "d0de075b",
   "metadata": {
    "execution": {
     "iopub.execute_input": "2021-08-28T05:16:30.653478Z",
     "iopub.status.busy": "2021-08-28T05:16:30.652734Z",
     "iopub.status.idle": "2021-08-28T05:16:31.602471Z",
     "shell.execute_reply": "2021-08-28T05:16:31.602012Z",
     "shell.execute_reply.started": "2021-08-28T05:11:43.276170Z"
    },
    "papermill": {
     "duration": 0.968325,
     "end_time": "2021-08-28T05:16:31.602599",
     "exception": false,
     "start_time": "2021-08-28T05:16:30.634274",
     "status": "completed"
    },
    "tags": []
   },
   "outputs": [],
   "source": [
    "from xgboost import XGBRegressor\n",
    "from sklearn.model_selection import train_test_split\n",
    "from sklearn.preprocessing import OneHotEncoder\n",
    "from sklearn.metrics import mean_squared_error"
   ]
  },
  {
   "cell_type": "markdown",
   "id": "e373105a",
   "metadata": {
    "papermill": {
     "duration": 0.015192,
     "end_time": "2021-08-28T05:16:31.634461",
     "exception": false,
     "start_time": "2021-08-28T05:16:31.619269",
     "status": "completed"
    },
    "tags": []
   },
   "source": [
    "## Loading data"
   ]
  },
  {
   "cell_type": "code",
   "execution_count": 3,
   "id": "0da92348",
   "metadata": {
    "execution": {
     "iopub.execute_input": "2021-08-28T05:16:31.669932Z",
     "iopub.status.busy": "2021-08-28T05:16:31.669186Z",
     "iopub.status.idle": "2021-08-28T05:16:33.910254Z",
     "shell.execute_reply": "2021-08-28T05:16:33.909519Z",
     "shell.execute_reply.started": "2021-08-28T05:11:44.192267Z"
    },
    "papermill": {
     "duration": 2.260994,
     "end_time": "2021-08-28T05:16:33.910394",
     "exception": false,
     "start_time": "2021-08-28T05:16:31.649400",
     "status": "completed"
    },
    "tags": []
   },
   "outputs": [],
   "source": [
    "train_data = pd.read_csv(\"../input/30-days-of-ml/train.csv\")\n",
    "train_data_copy = train_data.copy()"
   ]
  },
  {
   "cell_type": "markdown",
   "id": "b80f7042",
   "metadata": {
    "papermill": {
     "duration": 0.014505,
     "end_time": "2021-08-28T05:16:33.939523",
     "exception": false,
     "start_time": "2021-08-28T05:16:33.925018",
     "status": "completed"
    },
    "tags": []
   },
   "source": [
    "## Splitting the train data"
   ]
  },
  {
   "cell_type": "code",
   "execution_count": 4,
   "id": "2003acb4",
   "metadata": {
    "execution": {
     "iopub.execute_input": "2021-08-28T05:16:34.019980Z",
     "iopub.status.busy": "2021-08-28T05:16:34.019038Z",
     "iopub.status.idle": "2021-08-28T05:16:34.141210Z",
     "shell.execute_reply": "2021-08-28T05:16:34.140603Z",
     "shell.execute_reply.started": "2021-08-28T05:11:46.473886Z"
    },
    "papermill": {
     "duration": 0.186592,
     "end_time": "2021-08-28T05:16:34.141340",
     "exception": false,
     "start_time": "2021-08-28T05:16:33.954748",
     "status": "completed"
    },
    "tags": []
   },
   "outputs": [],
   "source": [
    "y = train_data_copy.target\n",
    "X = train_data_copy.drop('target', axis=1)\n",
    "\n",
    "train_X, valid_X, train_y, valid_y = train_test_split(X,y)"
   ]
  },
  {
   "cell_type": "markdown",
   "id": "cd8ff1b3",
   "metadata": {
    "papermill": {
     "duration": 0.014804,
     "end_time": "2021-08-28T05:16:34.171790",
     "exception": false,
     "start_time": "2021-08-28T05:16:34.156986",
     "status": "completed"
    },
    "tags": []
   },
   "source": [
    "## Applying OH encoding"
   ]
  },
  {
   "cell_type": "code",
   "execution_count": 5,
   "id": "2c49e869",
   "metadata": {
    "execution": {
     "iopub.execute_input": "2021-08-28T05:16:34.245459Z",
     "iopub.status.busy": "2021-08-28T05:16:34.237112Z",
     "iopub.status.idle": "2021-08-28T05:16:35.750660Z",
     "shell.execute_reply": "2021-08-28T05:16:35.750115Z",
     "shell.execute_reply.started": "2021-08-28T05:11:46.640573Z"
    },
    "papermill": {
     "duration": 1.563799,
     "end_time": "2021-08-28T05:16:35.750791",
     "exception": false,
     "start_time": "2021-08-28T05:16:34.186992",
     "status": "completed"
    },
    "tags": []
   },
   "outputs": [],
   "source": [
    "cat_cols = [col for col in train_X.columns if col[:3] == 'cat']\n",
    "my_encoder = OneHotEncoder(handle_unknown='ignore',sparse=False)\n",
    "train_X_cat_encode = pd.DataFrame(my_encoder.fit_transform(train_X[cat_cols]))\n",
    "valid_X_cat_encode = pd.DataFrame(my_encoder.transform(valid_X[cat_cols]))\n",
    "\n",
    "train_X_cat_encode.index = train_X.index\n",
    "valid_X_cat_encode.index = valid_X.index\n",
    "\n",
    "train_X_num = train_X.drop(cat_cols, axis = 1)\n",
    "valid_X_num = valid_X.drop(cat_cols, axis = 1)\n",
    "\n",
    "OH_train_data = pd.concat([train_X_num,train_X_cat_encode], axis=1,ignore_index=True,verify_integrity=True)\n",
    "OH_valid_data = pd.concat([valid_X_num,valid_X_cat_encode], axis=1,ignore_index=True,verify_integrity=True)"
   ]
  },
  {
   "cell_type": "markdown",
   "id": "96d46324",
   "metadata": {
    "papermill": {
     "duration": 0.015512,
     "end_time": "2021-08-28T05:16:35.781493",
     "exception": false,
     "start_time": "2021-08-28T05:16:35.765981",
     "status": "completed"
    },
    "tags": []
   },
   "source": [
    "## Defining our model"
   ]
  },
  {
   "cell_type": "code",
   "execution_count": 6,
   "id": "37d32030",
   "metadata": {
    "execution": {
     "iopub.execute_input": "2021-08-28T05:16:35.816284Z",
     "iopub.status.busy": "2021-08-28T05:16:35.815717Z",
     "iopub.status.idle": "2021-08-28T05:16:35.819873Z",
     "shell.execute_reply": "2021-08-28T05:16:35.819443Z",
     "shell.execute_reply.started": "2021-08-28T05:11:48.048941Z"
    },
    "papermill": {
     "duration": 0.023285,
     "end_time": "2021-08-28T05:16:35.819991",
     "exception": false,
     "start_time": "2021-08-28T05:16:35.796706",
     "status": "completed"
    },
    "tags": []
   },
   "outputs": [],
   "source": [
    "myModel = XGBRegressor(random_state=42, \n",
    "                        n_jobs=4,\n",
    "                        n_estimators= 5000,\n",
    "                        learning_rate= 0.01,\n",
    "                        tree_method = 'gpu_hist',\n",
    "                        eval_metric='rmse')"
   ]
  },
  {
   "cell_type": "code",
   "execution_count": 7,
   "id": "bf62f9f5",
   "metadata": {
    "execution": {
     "iopub.execute_input": "2021-08-28T05:16:35.857033Z",
     "iopub.status.busy": "2021-08-28T05:16:35.855686Z",
     "iopub.status.idle": "2021-08-28T05:16:56.922787Z",
     "shell.execute_reply": "2021-08-28T05:16:56.922326Z",
     "shell.execute_reply.started": "2021-08-28T05:11:48.055734Z"
    },
    "papermill": {
     "duration": 21.088468,
     "end_time": "2021-08-28T05:16:56.922920",
     "exception": false,
     "start_time": "2021-08-28T05:16:35.834452",
     "status": "completed"
    },
    "tags": []
   },
   "outputs": [
    {
     "data": {
      "text/plain": [
       "XGBRegressor(base_score=0.5, booster='gbtree', colsample_bylevel=1,\n",
       "             colsample_bynode=1, colsample_bytree=1, eval_metric='rmse',\n",
       "             gamma=0, gpu_id=0, importance_type='gain',\n",
       "             interaction_constraints='', learning_rate=0.01, max_delta_step=0,\n",
       "             max_depth=6, min_child_weight=1, missing=nan,\n",
       "             monotone_constraints='()', n_estimators=5000, n_jobs=4,\n",
       "             num_parallel_tree=1, random_state=42, reg_alpha=0, reg_lambda=1,\n",
       "             scale_pos_weight=1, subsample=1, tree_method='gpu_hist',\n",
       "             validate_parameters=1, verbosity=None)"
      ]
     },
     "execution_count": 7,
     "metadata": {},
     "output_type": "execute_result"
    }
   ],
   "source": [
    "myModel.fit(OH_train_data,train_y,\n",
    "            early_stopping_rounds=10,\n",
    "            eval_set=[(OH_train_data, train_y), (OH_valid_data, valid_y)],\n",
    "            eval_metric=\"rmse\",\n",
    "            verbose=False\n",
    "           )"
   ]
  },
  {
   "cell_type": "markdown",
   "id": "e7d1dde0",
   "metadata": {
    "papermill": {
     "duration": 0.015123,
     "end_time": "2021-08-28T05:16:56.953552",
     "exception": false,
     "start_time": "2021-08-28T05:16:56.938429",
     "status": "completed"
    },
    "tags": []
   },
   "source": [
    "## Making predictions on Validation Data"
   ]
  },
  {
   "cell_type": "code",
   "execution_count": 8,
   "id": "5a79d68d",
   "metadata": {
    "execution": {
     "iopub.execute_input": "2021-08-28T05:16:56.988272Z",
     "iopub.status.busy": "2021-08-28T05:16:56.986977Z",
     "iopub.status.idle": "2021-08-28T05:17:01.440993Z",
     "shell.execute_reply": "2021-08-28T05:17:01.440101Z",
     "shell.execute_reply.started": "2021-08-28T05:12:33.621208Z"
    },
    "papermill": {
     "duration": 4.473167,
     "end_time": "2021-08-28T05:17:01.441128",
     "exception": false,
     "start_time": "2021-08-28T05:16:56.967961",
     "status": "completed"
    },
    "tags": []
   },
   "outputs": [],
   "source": [
    "pred_valid = myModel.predict(OH_valid_data)"
   ]
  },
  {
   "cell_type": "markdown",
   "id": "7785d9db",
   "metadata": {
    "papermill": {
     "duration": 0.014555,
     "end_time": "2021-08-28T05:17:01.470729",
     "exception": false,
     "start_time": "2021-08-28T05:17:01.456174",
     "status": "completed"
    },
    "tags": []
   },
   "source": [
    "## Checking the MSE"
   ]
  },
  {
   "cell_type": "code",
   "execution_count": 9,
   "id": "5dc067cb",
   "metadata": {
    "execution": {
     "iopub.execute_input": "2021-08-28T05:17:01.505602Z",
     "iopub.status.busy": "2021-08-28T05:17:01.505097Z",
     "iopub.status.idle": "2021-08-28T05:17:01.511255Z",
     "shell.execute_reply": "2021-08-28T05:17:01.511894Z",
     "shell.execute_reply.started": "2021-08-28T05:12:47.486779Z"
    },
    "papermill": {
     "duration": 0.026281,
     "end_time": "2021-08-28T05:17:01.512081",
     "exception": false,
     "start_time": "2021-08-28T05:17:01.485800",
     "status": "completed"
    },
    "tags": []
   },
   "outputs": [
    {
     "name": "stdout",
     "output_type": "stream",
     "text": [
      "0.7249795982908432\n"
     ]
    }
   ],
   "source": [
    "print(mean_squared_error(valid_y, pred_valid, squared=False))"
   ]
  },
  {
   "cell_type": "markdown",
   "id": "6b1b81c6",
   "metadata": {
    "papermill": {
     "duration": 0.015878,
     "end_time": "2021-08-28T05:17:01.543811",
     "exception": false,
     "start_time": "2021-08-28T05:17:01.527933",
     "status": "completed"
    },
    "tags": []
   },
   "source": [
    "## Making predictions on Test Data"
   ]
  },
  {
   "cell_type": "code",
   "execution_count": 10,
   "id": "84ca5277",
   "metadata": {
    "execution": {
     "iopub.execute_input": "2021-08-28T05:17:01.580021Z",
     "iopub.status.busy": "2021-08-28T05:17:01.579310Z",
     "iopub.status.idle": "2021-08-28T05:17:02.876693Z",
     "shell.execute_reply": "2021-08-28T05:17:02.876143Z",
     "shell.execute_reply.started": "2021-08-28T05:14:43.296409Z"
    },
    "papermill": {
     "duration": 1.317034,
     "end_time": "2021-08-28T05:17:02.876840",
     "exception": false,
     "start_time": "2021-08-28T05:17:01.559806",
     "status": "completed"
    },
    "tags": []
   },
   "outputs": [],
   "source": [
    "test_data = pd.read_csv(\"../input/30-days-of-ml/test.csv\")"
   ]
  },
  {
   "cell_type": "code",
   "execution_count": 11,
   "id": "c05bede1",
   "metadata": {
    "execution": {
     "iopub.execute_input": "2021-08-28T05:17:02.914367Z",
     "iopub.status.busy": "2021-08-28T05:17:02.913781Z",
     "iopub.status.idle": "2021-08-28T05:17:02.918080Z",
     "shell.execute_reply": "2021-08-28T05:17:02.917592Z",
     "shell.execute_reply.started": "2021-08-28T05:14:51.152610Z"
    },
    "papermill": {
     "duration": 0.024795,
     "end_time": "2021-08-28T05:17:02.918215",
     "exception": false,
     "start_time": "2021-08-28T05:17:02.893420",
     "status": "completed"
    },
    "tags": []
   },
   "outputs": [],
   "source": [
    "test_X = test_data"
   ]
  },
  {
   "cell_type": "code",
   "execution_count": 12,
   "id": "3adb8e4d",
   "metadata": {
    "execution": {
     "iopub.execute_input": "2021-08-28T05:17:02.959962Z",
     "iopub.status.busy": "2021-08-28T05:17:02.958976Z",
     "iopub.status.idle": "2021-08-28T05:17:03.922667Z",
     "shell.execute_reply": "2021-08-28T05:17:03.921677Z",
     "shell.execute_reply.started": "2021-08-28T05:15:07.533944Z"
    },
    "papermill": {
     "duration": 0.987701,
     "end_time": "2021-08-28T05:17:03.922811",
     "exception": false,
     "start_time": "2021-08-28T05:17:02.935110",
     "status": "completed"
    },
    "tags": []
   },
   "outputs": [],
   "source": [
    "test_X_cat_encode = pd.DataFrame(my_encoder.transform(test_X[cat_cols]))\n",
    "test_X_cat_encode.index = test_X.index\n",
    "test_X_num = test_X.drop(cat_cols, axis = 1)\n",
    "OH_test_data = pd.concat([test_X_num,test_X_cat_encode], axis=1,ignore_index=True,verify_integrity=True)"
   ]
  },
  {
   "cell_type": "code",
   "execution_count": 13,
   "id": "6864af30",
   "metadata": {
    "execution": {
     "iopub.execute_input": "2021-08-28T05:17:03.960863Z",
     "iopub.status.busy": "2021-08-28T05:17:03.959635Z",
     "iopub.status.idle": "2021-08-28T05:17:12.276607Z",
     "shell.execute_reply": "2021-08-28T05:17:12.276109Z",
     "shell.execute_reply.started": "2021-08-28T05:15:17.676489Z"
    },
    "papermill": {
     "duration": 8.337147,
     "end_time": "2021-08-28T05:17:12.276760",
     "exception": false,
     "start_time": "2021-08-28T05:17:03.939613",
     "status": "completed"
    },
    "tags": []
   },
   "outputs": [],
   "source": [
    "pred_test = myModel.predict(OH_test_data)"
   ]
  },
  {
   "cell_type": "markdown",
   "id": "1bc2041e",
   "metadata": {
    "papermill": {
     "duration": 0.014313,
     "end_time": "2021-08-28T05:17:12.306488",
     "exception": false,
     "start_time": "2021-08-28T05:17:12.292175",
     "status": "completed"
    },
    "tags": []
   },
   "source": [
    "## Preparing output file for submission"
   ]
  },
  {
   "cell_type": "code",
   "execution_count": 14,
   "id": "3b61e33e",
   "metadata": {
    "execution": {
     "iopub.execute_input": "2021-08-28T05:17:12.341267Z",
     "iopub.status.busy": "2021-08-28T05:17:12.340636Z",
     "iopub.status.idle": "2021-08-28T05:17:12.848433Z",
     "shell.execute_reply": "2021-08-28T05:17:12.848923Z",
     "shell.execute_reply.started": "2021-08-28T05:15:58.236161Z"
    },
    "papermill": {
     "duration": 0.527862,
     "end_time": "2021-08-28T05:17:12.849109",
     "exception": false,
     "start_time": "2021-08-28T05:17:12.321247",
     "status": "completed"
    },
    "tags": []
   },
   "outputs": [],
   "source": [
    "output = pd.DataFrame({'Id': test_X.id,\n",
    "                       'Target': pred_test})\n",
    "output.to_csv('submission.csv', index=False)"
   ]
  }
 ],
 "metadata": {
  "kernelspec": {
   "display_name": "Python 3",
   "language": "python",
   "name": "python3"
  },
  "language_info": {
   "codemirror_mode": {
    "name": "ipython",
    "version": 3
   },
   "file_extension": ".py",
   "mimetype": "text/x-python",
   "name": "python",
   "nbconvert_exporter": "python",
   "pygments_lexer": "ipython3",
   "version": "3.7.10"
  },
  "papermill": {
   "default_parameters": {},
   "duration": 50.596785,
   "end_time": "2021-08-28T05:17:14.365869",
   "environment_variables": {},
   "exception": null,
   "input_path": "__notebook__.ipynb",
   "output_path": "__notebook__.ipynb",
   "parameters": {},
   "start_time": "2021-08-28T05:16:23.769084",
   "version": "2.3.3"
  }
 },
 "nbformat": 4,
 "nbformat_minor": 5
}
